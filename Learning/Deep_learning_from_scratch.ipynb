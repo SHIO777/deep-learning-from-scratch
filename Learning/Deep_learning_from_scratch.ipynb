{
  "cells": [
    {
      "cell_type": "code",
      "execution_count": null,
      "metadata": {
        "id": "x4aMwzokdjNo"
      },
      "outputs": [],
      "source": []
    },
    {
      "cell_type": "markdown",
      "metadata": {
        "id": "vBNsf5KedyLg"
      },
      "source": [
        "# 活性化関数について\n",
        "## なぜ非線形関数を用いるのか？\n",
        "線形関数は線形関数の重ね合わせで表現できる。"
      ]
    },
    {
      "cell_type": "code",
      "execution_count": 3,
      "metadata": {
        "id": "rWgshA_Pel-V"
      },
      "outputs": [],
      "source": [
        "import numpy as np\n",
        "import matplotlib.pyplot as plt"
      ]
    },
    {
      "cell_type": "code",
      "execution_count": 4,
      "metadata": {
        "id": "yWSWX-CVewBu"
      },
      "outputs": [],
      "source": [
        "# step function\n",
        "def step_function(x):\n",
        "    return np.array(x > 0, dtype=int)"
      ]
    },
    {
      "cell_type": "code",
      "execution_count": 5,
      "metadata": {
        "colab": {
          "base_uri": "https://localhost:8080/"
        },
        "id": "6w2nuI4NfsDf",
        "outputId": "6e0b3ed4-e5fb-42ab-8b5f-4a770b2c2c9c"
      },
      "outputs": [
        {
          "name": "stdout",
          "output_type": "stream",
          "text": [
            "[False  True  True]\n"
          ]
        },
        {
          "data": {
            "text/plain": [
              "array([0, 1, 1])"
            ]
          },
          "execution_count": 5,
          "metadata": {},
          "output_type": "execute_result"
        }
      ],
      "source": [
        "# tips\n",
        "test_val = np.array([-1.0, 1.0, 2.0])\n",
        "# test_val>0を判定\n",
        "y = test_val > 0\n",
        "print(y)\n",
        "# test_val>0の判定結果をint型で返す\n",
        "np.array(test_val > 0, dtype=int)"
      ]
    },
    {
      "cell_type": "code",
      "execution_count": 6,
      "metadata": {
        "id": "Y8tZqTWhfP4m"
      },
      "outputs": [],
      "source": [
        "# sigmoid function\n",
        "def sigmoid(x):\n",
        "    return 1 / (1+np.exp(-x))"
      ]
    },
    {
      "cell_type": "markdown",
      "metadata": {
        "id": "IrFCK_nYfPsQ"
      },
      "source": []
    },
    {
      "cell_type": "code",
      "execution_count": 7,
      "metadata": {
        "colab": {
          "base_uri": "https://localhost:8080/",
          "height": 265
        },
        "id": "Qv-YGAi0e1rO",
        "outputId": "8b4a75ba-e90c-4bec-bed4-f796cf959a89"
      },
      "outputs": [
        {
          "data": {
            "image/png": "[encoded data removed]",
            "text/plain": [
              "<Figure size 432x288 with 1 Axes>"
            ]
          },
          "metadata": {
            "needs_background": "light"
          },
          "output_type": "display_data"
        }
      ],
      "source": [
        "# step関数のグラフ\n",
        "x = np.arange(-5.0, 5.0, 0.1)\n",
        "y = step_function(x)\n",
        "plt.plot(x, y)\n",
        "plt.ylim(-0.1, 1.1)\n",
        "plt.show()"
      ]
    },
    {
      "cell_type": "code",
      "execution_count": 8,
      "metadata": {
        "colab": {
          "base_uri": "https://localhost:8080/",
          "height": 265
        },
        "id": "PFfqKG_je7V_",
        "outputId": "2ffb41d8-e8c3-4834-84f4-b34b523b03fc"
      },
      "outputs": [
        {
          "data": {
            "image/png": "[encoded data removed]",
            "text/plain": [
              "<Figure size 432x288 with 1 Axes>"
            ]
          },
          "metadata": {
            "needs_background": "light"
          },
          "output_type": "display_data"
        }
      ],
      "source": [
        "# sigmoid\n",
        "x = np.arange(-5.0, 5.0, 0.1)\n",
        "y = sigmoid(x)\n",
        "plt.plot(x, y)\n",
        "plt.ylim(-0.1, 1.1)\n",
        "plt.show()"
      ]
    },
    {
      "cell_type": "code",
      "execution_count": 9,
      "metadata": {
        "id": "DxyHIWMYgX8d"
      },
      "outputs": [],
      "source": [
        "# Rectified Linear Unit: ReLU\n",
        "def relu(x):\n",
        "    # maximumは入力された値から大きい法を出力する関数\n",
        "    return np.maximum(0, x)"
      ]
    },
    {
      "cell_type": "code",
      "execution_count": 10,
      "metadata": {
        "colab": {
          "base_uri": "https://localhost:8080/",
          "height": 265
        },
        "id": "4wKt4d_1gsW1",
        "outputId": "acfa273f-863b-4304-af2a-d2875a2adec9"
      },
      "outputs": [
        {
          "data": {
            "image/png": "[encoded data removed]",
            "text/plain": [
              "<Figure size 432x288 with 1 Axes>"
            ]
          },
          "metadata": {
            "needs_background": "light"
          },
          "output_type": "display_data"
        }
      ],
      "source": [
        "# ReLU\n",
        "x = np.arange(-5.0, 5.0, 0.1)\n",
        "y = relu(x)\n",
        "plt.plot(x, y)\n",
        "plt.show()"
      ]
    },
    {
      "cell_type": "markdown",
      "metadata": {
        "id": "ulNIBAhqhRxf"
      },
      "source": [
        "### 3.4.2 各層における信号伝達の実装"
      ]
    },
    {
      "cell_type": "markdown",
      "metadata": {
        "id": "z97g8ny4nmGT"
      },
      "source": [
        "#### 恒等関数"
      ]
    },
    {
      "cell_type": "code",
      "execution_count": 11,
      "metadata": {
        "id": "-AKYU95yk8IC"
      },
      "outputs": [],
      "source": [
        "def identity_function(x): \n",
        "    # 恒等関数。そのままの値を返す。\n",
        "    return x"
      ]
    },
    {
      "cell_type": "markdown",
      "metadata": {
        "id": "0HiQO7XBnozS"
      },
      "source": [
        "#### network"
      ]
    },
    {
      "cell_type": "code",
      "execution_count": 12,
      "metadata": {
        "id": "O8na9IVLgysj"
      },
      "outputs": [],
      "source": [
        "def init_network():\n",
        "    network = {}\n",
        "    network['W1'] = np.array([[0.1, 0.3, 0.5], [0.2, 0.4, 0.6]])\n",
        "    network['b1'] = np.array([0.1, 0.2, 0.3])\n",
        "    network['W2'] = np.array([[0.1, 0.4], [0.2, 0.5], [0.3, 0.6]])\n",
        "    network['b2'] = np.array([0.1, 0.2])\n",
        "    network['W3'] = np.array([[0.1, 0.3], [0.2, 0.4]])\n",
        "    network['b3'] = np.array([0.1, 0.2])\n",
        "    return network"
      ]
    },
    {
      "cell_type": "code",
      "execution_count": 13,
      "metadata": {
        "id": "9O40CWGjkUd8"
      },
      "outputs": [],
      "source": [
        "def forward(network, x):\n",
        "    W1, W2, W3 = network['W1'], network['W2'], network['W3']\n",
        "    b1, b2, b3 = network['b1'], network['b2'], network['b3']\n",
        "\n",
        "    a1 = np.dot(x, W1) + b1\n",
        "    z1 = sigmoid(a1)\n",
        "    a2 = np.dot(z1, W2) + b2\n",
        "    z2 = sigmoid(a2)\n",
        "    a3 = np.dot(z2, W3) + b3\n",
        "    y = identity_function(a3)\n",
        "    return y"
      ]
    },
    {
      "cell_type": "code",
      "execution_count": 14,
      "metadata": {
        "colab": {
          "base_uri": "https://localhost:8080/"
        },
        "id": "0q4aRpkPlI81",
        "outputId": "57ffbcbc-5688-4356-f603-14b82df52e11"
      },
      "outputs": [
        {
          "name": "stdout",
          "output_type": "stream",
          "text": [
            "[0.31682708 0.69627909]\n"
          ]
        }
      ],
      "source": [
        "network = init_network()\n",
        "x = np.array([1.0, 0.5])\n",
        "y = forward(network, x)\n",
        "print(y)"
      ]
    },
    {
      "cell_type": "markdown",
      "metadata": {
        "id": "6q5aiSMcnUcX"
      },
      "source": [
        "#### リスト操作"
      ]
    },
    {
      "cell_type": "code",
      "execution_count": 15,
      "metadata": {
        "colab": {
          "base_uri": "https://localhost:8080/"
        },
        "id": "QvW3zBCAmDNS",
        "outputId": "77af63a5-005d-4b15-8537-65f9382271c7"
      },
      "outputs": [
        {
          "data": {
            "text/plain": [
              "array([0.2, 0.5, 0.8])"
            ]
          },
          "execution_count": 15,
          "metadata": {},
          "output_type": "execute_result"
        }
      ],
      "source": [
        "np.dot(x, network['W1'])"
      ]
    },
    {
      "cell_type": "code",
      "execution_count": 16,
      "metadata": {
        "colab": {
          "base_uri": "https://localhost:8080/"
        },
        "id": "yAF1jGM_lSsg",
        "outputId": "3ea5a09d-cd7d-44ce-e9d4-0159dc3ba786"
      },
      "outputs": [
        {
          "name": "stdout",
          "output_type": "stream",
          "text": [
            "(2, 3)\n"
          ]
        },
        {
          "data": {
            "text/plain": [
              "array([[0.1, 0.3, 0.5],\n",
              "       [0.2, 0.4, 0.6]])"
            ]
          },
          "execution_count": 16,
          "metadata": {},
          "output_type": "execute_result"
        }
      ],
      "source": [
        "# np.array([1, 2, 3]).shape # -> (3,)\n",
        "print(network['W1'].shape) # -> (2, 3)\n",
        "network['W1']"
      ]
    },
    {
      "cell_type": "markdown",
      "metadata": {
        "id": "rQsmjFuTnrT9"
      },
      "source": [
        "### overflow対策後のsoftmax"
      ]
    },
    {
      "cell_type": "code",
      "execution_count": 17,
      "metadata": {
        "id": "B889pf5_nq8o"
      },
      "outputs": [],
      "source": [
        "def softmax(a):\n",
        "    c = np.max(a)\n",
        "    exp_a = np.exp(a-c)     # to avoid overflow\n",
        "    sum_exp_a = np.sum(exp_a)\n",
        "    y = exp_a / sum_exp_a\n",
        "    return y"
      ]
    },
    {
      "cell_type": "code",
      "execution_count": 18,
      "metadata": {
        "colab": {
          "base_uri": "https://localhost:8080/",
          "height": 265
        },
        "id": "o510sNLYmZak",
        "outputId": "eb892e63-d7c9-4d6e-d987-f29c494f3ddd"
      },
      "outputs": [
        {
          "data": {
            "image/png": "[encoded data removed]",
            "text/plain": [
              "<Figure size 432x288 with 1 Axes>"
            ]
          },
          "metadata": {
            "needs_background": "light"
          },
          "output_type": "display_data"
        }
      ],
      "source": [
        "# Softmax\n",
        "x = np.arange(-5.0, 5.0, 0.1)\n",
        "y = softmax(x)\n",
        "plt.plot(x, y)\n",
        "# plt.ylim(-0.1, 1.1)\n",
        "plt.show()"
      ]
    },
    {
      "cell_type": "markdown",
      "metadata": {
        "id": "m8YHVF9arKoO"
      },
      "source": [
        "### softmax関数では、合計値が必ず1になる\n",
        "* そのため、softmax関数の出力は「確率」として捉えることができる。\n",
        "* softmaxを適用しても各要素の大小関係は変化しない"
      ]
    },
    {
      "cell_type": "code",
      "execution_count": 19,
      "metadata": {
        "colab": {
          "base_uri": "https://localhost:8080/"
        },
        "id": "dYsJUS_RrBjz",
        "outputId": "f024cfb0-51f3-4cb2-c001-6d0789fb1558"
      },
      "outputs": [
        {
          "name": "stdout",
          "output_type": "stream",
          "text": [
            "[0.01821127 0.24519181 0.73659691]\n",
            "1.0\n"
          ]
        }
      ],
      "source": [
        "a = np.array([0.3, 2.9, 4.0])\n",
        "y = softmax(a)\n",
        "print(y)\n",
        "print(y.sum())"
      ]
    },
    {
      "cell_type": "markdown",
      "metadata": {
        "id": "l31eBDhOquiR"
      },
      "source": [
        "### 出力層の活性化関数\n",
        "* 回帰問題: 恒等関数\n",
        "* 分類問題: softmax"
      ]
    },
    {
      "attachments": {},
      "cell_type": "markdown",
      "metadata": {},
      "source": [
        "# MNISTデータセット"
      ]
    },
    {
      "cell_type": "code",
      "execution_count": 20,
      "metadata": {
        "id": "Tmu44eQFnYkj"
      },
      "outputs": [],
      "source": [
        "import sys, os\n",
        "sys.path.append(os.pardir)      # 親ディレクトリDeep-learning-from-scratch下を参照できるようにする\n",
        "import numpy as np\n",
        "from dataset.mnist import load_mnist\n",
        "from PIL import Image    # Python image library\n",
        "import pickle\n"
      ]
    },
    {
      "cell_type": "code",
      "execution_count": 21,
      "metadata": {},
      "outputs": [],
      "source": [
        "(x_train, t_train), (x_test, t_test) = \\\n",
        "    load_mnist(flatten=True, normalize=False)"
      ]
    },
    {
      "cell_type": "code",
      "execution_count": 22,
      "metadata": {},
      "outputs": [
        {
          "name": "stdout",
          "output_type": "stream",
          "text": [
            "(60000, 784)\n",
            "(60000,)\n",
            "(10000, 784)\n",
            "(10000,)\n"
          ]
        }
      ],
      "source": [
        "# データの形状を出力\n",
        "print(x_train.shape)\n",
        "print(t_train.shape)\n",
        "print(x_test.shape)\n",
        "print(t_test.shape)"
      ]
    },
    {
      "cell_type": "code",
      "execution_count": 23,
      "metadata": {},
      "outputs": [
        {
          "name": "stdout",
          "output_type": "stream",
          "text": [
            "5\n",
            "(784,)\n",
            "(28, 28)\n"
          ]
        }
      ],
      "source": [
        "# MNIST画像を表示\n",
        "def img_show(img):\n",
        "    pil_img = Image.fromarray(np.uint8(img))    # PIL用データオブジェクトに変換\n",
        "    pil_img.show()\n",
        "    \n",
        "(x_train, t_train), (x_test, t_test) = \\\n",
        "    load_mnist(flatten=True, normalize=False)\n",
        "    \n",
        "img = x_train[0]\n",
        "label = t_train[0]\n",
        "print(label)\n",
        "    \n",
        "print(img.shape)\n",
        "img = img.reshape(28, 28)\n",
        "print(img.shape)\n",
        "# img_show(img)"
      ]
    },
    {
      "attachments": {},
      "cell_type": "markdown",
      "metadata": {},
      "source": [
        "### 3.6.2 neural networkの推論処理"
      ]
    },
    {
      "cell_type": "code",
      "execution_count": 24,
      "metadata": {},
      "outputs": [],
      "source": [
        "def get_data():\n",
        "    (x_train, t_train), (x_test, t_test) = \\\n",
        "        load_mnist(normalize=True, flatten=True, one_hot_label=False)\n",
        "    return x_test, t_test\n",
        "\n",
        "def init_network():\n",
        "    with open(\"../ch03/sample_weight.pkl\", 'rb') as f:  # 学習済みの重みパラメータを読み込み\n",
        "        network = pickle.load(f)\n",
        "    return network\n",
        "\n",
        "def predict(network, x):\n",
        "    W1, W2, W3 = network['W1'], network['W2'], network['W3']\n",
        "    b1, b2, b3 = network['b1'], network['b2'], network['b3']\n",
        "\n",
        "    a1 = np.dot(x, W1) + b1\n",
        "    z1 = sigmoid(a1)\n",
        "    a2 = np.dot(z1, W2) + b2\n",
        "    z2 = sigmoid(a2)\n",
        "    a3 = np.dot(z2, W3) + b3\n",
        "    y = softmax(a3)\n",
        "    return y"
      ]
    },
    {
      "cell_type": "code",
      "execution_count": 25,
      "metadata": {},
      "outputs": [
        {
          "name": "stdout",
          "output_type": "stream",
          "text": [
            "accuracy:0.9352\n"
          ]
        }
      ],
      "source": [
        "x, t = get_data()\n",
        "network = init_network()\n",
        "\n",
        "accuracy_cnt = 0\n",
        "for i in range(len(x)):\n",
        "    y = predict(network, x[i])\n",
        "    p = np.argmax(y)        # もっとも確率の高い要素のインデックスを取得\n",
        "    if p == t[i]:\n",
        "        accuracy_cnt += 1\n",
        "\n",
        "print(\"accuracy:\" + str(float(accuracy_cnt)/len(x)))\n"
      ]
    },
    {
      "attachments": {},
      "cell_type": "markdown",
      "metadata": {},
      "source": [
        "### 前処理\n",
        "* 正規化\n",
        "    * 例: データ全体の平均や標準偏差を利用してデータ全体が0を中心に分布するように移動させる\n",
        "* 白色化（whitening）\n",
        "    * データ全体の分布の形状を均一にする"
      ]
    },
    {
      "attachments": {},
      "cell_type": "markdown",
      "metadata": {},
      "source": [
        "### 3.6.3 バッチ処理\n",
        "バッチ単位で推論処理を行うことで計算を高速に行うことができる"
      ]
    },
    {
      "cell_type": "code",
      "execution_count": 26,
      "metadata": {},
      "outputs": [
        {
          "name": "stdout",
          "output_type": "stream",
          "text": [
            "accuracy:0.9352\n"
          ]
        }
      ],
      "source": [
        "x, t = get_data()\n",
        "network = init_network()\n",
        "\n",
        "batch_size = 100    # バッチの数\n",
        "accuracy_cnt = 0\n",
        "\n",
        "for i in range(0, len(x), batch_size):\n",
        "    x_batch = x[i:i+batch_size]\n",
        "    y_batch = predict(network, x_batch)\n",
        "    p = np.argmax(y_batch, axis=1)        # もっとも確率の高い要素のインデックスを取得\n",
        "    accuracy_cnt += np.sum(p==t[i:i+batch_size])\n",
        "\n",
        "print(\"accuracy:\" + str(float(accuracy_cnt)/len(x)))\n"
      ]
    },
    {
      "cell_type": "code",
      "execution_count": 27,
      "metadata": {},
      "outputs": [
        {
          "data": {
            "text/plain": [
              "array([[3.89409323e-08, 8.85489317e-06, 6.99534485e-06, 3.66066433e-06,\n",
              "        8.43372788e-07, 2.54080842e-05, 2.54759607e-06, 1.08506129e-08,\n",
              "        1.41208537e-03, 3.62794452e-07],\n",
              "       [2.98676710e-08, 6.63879192e-08, 9.14277578e-08, 6.90589559e-07,\n",
              "        4.69531951e-04, 1.04843148e-05, 3.57157944e-07, 1.15673492e-06,\n",
              "        3.00109641e-05, 5.02863550e-04],\n",
              "       [5.50639909e-03, 2.29429742e-09, 3.95249799e-06, 1.79974961e-06,\n",
              "        8.36500362e-08, 1.94654742e-04, 4.49014891e-07, 1.15242474e-05,\n",
              "        2.61186472e-07, 6.28909504e-07],\n",
              "       [1.07703513e-10, 2.35559558e-03, 1.08601535e-05, 4.16096873e-06,\n",
              "        2.63606421e-06, 1.75058824e-06, 3.21644393e-07, 7.49862738e-06,\n",
              "        2.37022577e-05, 8.25172833e-07],\n",
              "       [2.06350269e-05, 1.18354912e-07, 2.20191883e-04, 9.40575410e-06,\n",
              "        2.95312901e-07, 7.29604517e-06, 1.14754391e-06, 1.66777261e-06,\n",
              "        1.10823748e-06, 3.84532441e-08],\n",
              "       [6.35171773e-08, 5.46185674e-07, 5.23685849e-05, 6.79152299e-06,\n",
              "        4.16744001e-07, 7.38695647e-08, 5.96513683e-09, 2.87463452e-04,\n",
              "        1.52102657e-05, 3.07843467e-04],\n",
              "       [7.46179978e-07, 3.15515116e-08, 1.26777122e-05, 1.07442633e-08,\n",
              "        5.64608490e-04, 2.04786329e-06, 9.94957445e-05, 9.37612299e-07,\n",
              "        2.54326551e-06, 1.27010139e-06],\n",
              "       [3.38595673e-05, 3.88727557e-07, 2.60913498e-06, 1.36841754e-06,\n",
              "        1.33411930e-07, 1.72508170e-03, 2.97942438e-06, 1.51030846e-07,\n",
              "        1.65435285e-05, 1.87654212e-08],\n",
              "       [7.13483905e-06, 1.05559977e-07, 3.40759616e-05, 5.46976118e-08,\n",
              "        3.77894357e-05, 1.38201976e-05, 3.00637167e-02, 3.96998452e-08,\n",
              "        1.05194673e-07, 1.21470345e-08],\n",
              "       [1.23938696e-06, 5.30245536e-08, 6.12297129e-07, 1.83089003e-06,\n",
              "        5.54609073e-07, 9.31070645e-06, 8.58579596e-10, 3.37424129e-02,\n",
              "        9.23879156e-07, 2.83110247e-04],\n",
              "       [1.53565878e-07, 7.23937683e-06, 1.73092175e-07, 1.20402538e-05,\n",
              "        1.29062613e-07, 2.98299594e-04, 3.08709822e-08, 2.68782912e-07,\n",
              "        8.85779096e-04, 7.13973304e-06],\n",
              "       [4.74768169e-02, 5.88373072e-10, 2.94020924e-06, 4.23076108e-06,\n",
              "        2.30770194e-08, 5.16787171e-04, 5.03967954e-07, 6.83054805e-06,\n",
              "        1.83931391e-07, 4.64509981e-07],\n",
              "       [1.92155514e-09, 1.19481236e-03, 2.53792423e-05, 2.49770783e-05,\n",
              "        1.67994202e-07, 5.54397320e-06, 1.84029645e-07, 5.79462551e-07,\n",
              "        5.59990331e-05, 2.89440067e-07],\n",
              "       [1.20575987e-06, 4.33862908e-07, 1.28096854e-03, 2.51951542e-06,\n",
              "        6.83675125e-08, 1.06536891e-06, 3.22139840e-07, 2.55604675e-07,\n",
              "        2.73462385e-04, 5.29525209e-07],\n",
              "       [1.23205268e-07, 2.19935532e-06, 8.53737856e-06, 3.16240103e-03,\n",
              "        1.97425862e-08, 3.47096125e-06, 6.89482915e-10, 6.10743245e-06,\n",
              "        5.03390620e-05, 3.80117963e-05],\n",
              "       [6.99034217e-08, 1.49941002e-07, 2.41679322e-06, 8.40226946e-08,\n",
              "        2.40592076e-03, 2.24430187e-06, 8.35179308e-05, 7.67419408e-07,\n",
              "        8.63920548e-07, 2.14098259e-06],\n",
              "       [1.83985103e-05, 5.30458166e-09, 1.50664306e-07, 2.85020377e-07,\n",
              "        2.68659005e-06, 2.77993931e-05, 7.62045183e-09, 3.63061205e-03,\n",
              "        7.17249463e-07, 5.28234756e-04],\n",
              "       [4.72242732e-07, 4.74302226e-07, 6.09870222e-06, 5.69214762e-07,\n",
              "        6.81502570e-07, 5.10535829e-05, 1.33918070e-06, 6.62371846e-09,\n",
              "        9.72090103e-03, 1.07656695e-06],\n",
              "       [1.42145745e-06, 5.16607024e-09, 1.03106379e-06, 8.65834480e-08,\n",
              "        7.98848923e-05, 1.54151837e-06, 1.54598595e-07, 2.69834127e-05,\n",
              "        7.14998805e-06, 1.14708440e-03],\n",
              "       [3.85202867e-07, 6.63101503e-08, 6.96119713e-08, 1.48537481e-06,\n",
              "        6.75147203e-06, 8.22740367e-06, 1.38748291e-09, 2.64458302e-02,\n",
              "        3.09476405e-07, 2.13392684e-03],\n",
              "       [1.35585523e-07, 1.84442831e-06, 3.71898182e-06, 5.87798240e-06,\n",
              "        1.69312599e-07, 1.96009369e-05, 5.12696019e-08, 8.73688677e-08,\n",
              "        4.56464943e-03, 8.98566122e-06],\n",
              "       [4.85659984e-06, 2.36936899e-07, 1.67290840e-04, 5.39529594e-07,\n",
              "        2.95024779e-06, 5.69065242e-06, 1.65587466e-03, 2.02764472e-08,\n",
              "        8.73081888e-07, 2.23866898e-08],\n",
              "       [4.02949807e-09, 2.28996828e-06, 6.17066149e-08, 1.25654867e-06,\n",
              "        3.37097968e-04, 2.21486698e-05, 5.55197573e-07, 5.03868250e-06,\n",
              "        7.23903167e-06, 2.84568177e-05],\n",
              "       [1.74933470e-10, 7.69863464e-03, 3.12925295e-05, 3.45052172e-06,\n",
              "        5.84478130e-07, 1.89277034e-06, 8.93674780e-07, 5.40511928e-06,\n",
              "        1.34226157e-05, 2.11762512e-07],\n",
              "       [3.77819219e-06, 4.83966112e-09, 1.86839657e-07, 6.16882545e-08,\n",
              "        9.04359258e-05, 5.17877970e-06, 7.31381604e-08, 9.49663954e-05,\n",
              "        2.88387946e-06, 1.28528511e-03],\n",
              "       [6.21418280e-07, 2.00152181e-06, 1.02385893e-04, 9.02101601e-05,\n",
              "        1.36725253e-08, 7.17826015e-06, 2.41007942e-08, 2.61445030e-06,\n",
              "        4.39070536e-05, 6.08245841e-07],\n",
              "       [1.64211968e-08, 1.54530662e-05, 8.90406773e-06, 2.59790500e-06,\n",
              "        5.49506922e-07, 2.52933696e-05, 1.16603860e-06, 1.41993524e-07,\n",
              "        4.81059338e-04, 4.11469870e-07],\n",
              "       [1.94616291e-07, 2.68050400e-08, 2.93395192e-06, 6.79947121e-09,\n",
              "        2.99616344e-03, 7.68540019e-07, 1.95417888e-05, 1.93828182e-05,\n",
              "        7.22909363e-07, 2.11086863e-05],\n",
              "       [2.72775935e-07, 1.32946258e-08, 1.36548306e-06, 1.09761498e-08,\n",
              "        2.28876760e-03, 1.15006139e-06, 3.81158156e-06, 1.63370132e-05,\n",
              "        1.79064659e-06, 1.04852501e-04],\n",
              "       [1.16564502e-06, 4.95619510e-08, 1.14932584e-06, 3.78325421e-06,\n",
              "        3.72700413e-07, 5.43928945e-06, 6.31939279e-10, 1.60186384e-02,\n",
              "        1.27568421e-06, 4.61846474e-04],\n",
              "       [1.97310336e-02, 1.05642961e-09, 6.33346917e-06, 5.26241092e-06,\n",
              "        1.97900896e-08, 1.71611260e-04, 8.76843501e-07, 7.25735333e-07,\n",
              "        1.88647562e-06, 5.10697987e-07],\n",
              "       [3.35192429e-10, 5.39350836e-03, 1.34703323e-05, 2.04117459e-05,\n",
              "        1.12199572e-07, 1.84490148e-06, 2.21514142e-07, 1.25721099e-05,\n",
              "        8.95742687e-06, 1.26249688e-06],\n",
              "       [8.87916713e-07, 6.65267486e-09, 3.30402963e-06, 2.33759039e-07,\n",
              "        3.68481997e-05, 2.99487766e-07, 6.65833326e-08, 4.10650537e-05,\n",
              "        8.75948808e-06, 2.38031405e-03],\n",
              "       [3.19687047e-06, 1.45362179e-07, 7.17523880e-03, 2.39316196e-05,\n",
              "        1.39938848e-07, 4.86993599e-07, 1.08020049e-06, 2.84087662e-07,\n",
              "        6.49235608e-06, 9.20386540e-08],\n",
              "       [2.06900133e-08, 1.26037176e-05, 6.00711155e-06, 5.62708810e-05,\n",
              "        1.23806672e-07, 1.68614733e-05, 4.40171668e-08, 9.14570606e-08,\n",
              "        2.30382127e-03, 1.91637696e-06],\n",
              "       [7.04270633e-07, 1.24705366e-07, 1.00576437e-06, 9.90885201e-06,\n",
              "        2.84216412e-07, 4.37668132e-06, 8.66649752e-10, 2.67943870e-02,\n",
              "        3.64086588e-07, 3.54910560e-04],\n",
              "       [1.30641880e-07, 1.93172241e-06, 2.29579683e-07, 5.44731483e-05,\n",
              "        1.37635737e-07, 1.72756510e-04, 3.44257867e-09, 6.93620450e-07,\n",
              "        7.97320565e-04, 3.05530375e-05],\n",
              "       [4.27851410e-06, 9.82755921e-08, 8.61093111e-04, 7.04585764e-05,\n",
              "        5.47781326e-07, 1.62640038e-06, 6.02195587e-06, 8.29812592e-08,\n",
              "        1.92892435e-06, 4.65886423e-08],\n",
              "       [1.71634165e-05, 1.16338441e-07, 5.14121602e-05, 2.30027865e-07,\n",
              "        6.90764455e-06, 1.89883722e-05, 1.55750904e-02, 4.49009967e-08,\n",
              "        9.07960640e-08, 5.86623017e-09],\n",
              "       [6.21905439e-02, 7.07245873e-10, 5.05715388e-06, 2.77272534e-06,\n",
              "        3.03724939e-08, 5.70482691e-04, 1.91545428e-06, 1.83177724e-06,\n",
              "        2.60677325e-07, 1.05684585e-07],\n",
              "       [2.96766491e-04, 2.05239026e-09, 1.10437231e-05, 5.67144866e-07,\n",
              "        7.17419471e-06, 1.81121777e-05, 2.23986950e-04, 6.44005354e-07,\n",
              "        7.91590722e-08, 2.62077748e-07],\n",
              "       [4.38684856e-06, 6.74033231e-07, 3.16916667e-05, 2.27303972e-05,\n",
              "        5.71990810e-08, 2.82832552e-05, 5.33202656e-05, 2.29610336e-07,\n",
              "        2.88507886e-06, 1.57245879e-08],\n",
              "       [1.84423200e-07, 3.78506616e-06, 1.02067975e-06, 1.37645276e-02,\n",
              "        1.33824738e-08, 1.08680535e-04, 3.35848377e-10, 2.46072841e-06,\n",
              "        4.32908200e-05, 7.56823010e-06],\n",
              "       [1.04893093e-06, 3.71480780e-07, 1.01026910e-06, 1.53912348e-04,\n",
              "        3.14876054e-08, 1.57614631e-04, 1.72657910e-09, 3.81369045e-06,\n",
              "        9.40156169e-05, 1.84431319e-05],\n",
              "       [1.92693115e-08, 1.25261954e-06, 1.32383320e-07, 1.59157808e-05,\n",
              "        1.96764790e-06, 1.45974554e-05, 2.78225976e-09, 7.14088446e-06,\n",
              "        2.40310357e-04, 7.35329348e-04],\n",
              "       [1.05236225e-07, 4.37855583e-08, 5.06865518e-08, 2.86660878e-07,\n",
              "        3.51553346e-04, 4.21042660e-06, 5.00643687e-08, 3.26420231e-05,\n",
              "        6.73759132e-06, 3.06898868e-03],\n",
              "       [6.39271247e-10, 3.95566411e-03, 1.28246338e-05, 3.55700722e-05,\n",
              "        7.76012783e-08, 2.41506314e-06, 1.56034758e-07, 8.19071920e-06,\n",
              "        1.02213744e-05, 1.10469296e-06],\n",
              "       [8.42271220e-06, 3.46344331e-09, 2.68184658e-06, 3.98074782e-08,\n",
              "        1.55582174e-03, 4.97168048e-06, 1.73081062e-04, 3.53734094e-06,\n",
              "        7.85684477e-08, 1.01184082e-06],\n",
              "       [1.01485802e-02, 8.17968360e-09, 1.98398470e-06, 1.70319454e-05,\n",
              "        4.52497684e-09, 2.87110428e-03, 1.62851180e-07, 9.98943960e-07,\n",
              "        2.05178071e-06, 1.33856844e-07],\n",
              "       [1.39961003e-05, 3.34638948e-08, 3.71956885e-05, 8.68342482e-08,\n",
              "        2.28819681e-05, 5.30804618e-06, 6.34337123e-03, 9.14464167e-08,\n",
              "        1.68860936e-07, 7.07599455e-08],\n",
              "       [4.32028996e-10, 4.37022746e-03, 1.28879728e-05, 1.10790088e-05,\n",
              "        2.43693705e-07, 3.26478607e-06, 2.54726672e-07, 6.98770327e-06,\n",
              "        1.25934939e-05, 5.37430196e-07],\n",
              "       [5.80804795e-03, 1.41843948e-09, 1.16061017e-06, 8.59406282e-06,\n",
              "        6.39500044e-08, 2.10028331e-04, 3.62038080e-08, 9.66334337e-05,\n",
              "        1.32381047e-07, 2.97326233e-06],\n",
              "       [1.25713319e-01, 4.26587904e-10, 4.40281701e-06, 3.86491683e-06,\n",
              "        1.80494553e-08, 9.32224444e-04, 2.16027820e-06, 4.93583968e-07,\n",
              "        5.08933965e-07, 1.38125145e-07],\n",
              "       [1.70333835e-04, 6.42384768e-09, 2.29324560e-05, 2.24988966e-07,\n",
              "        4.65674066e-06, 2.15984473e-05, 6.58929115e-04, 1.38052314e-07,\n",
              "        2.72818824e-07, 9.36302769e-08],\n",
              "       [3.51303315e-05, 2.36929782e-08, 3.58453603e-04, 9.39924394e-06,\n",
              "        1.51885278e-08, 1.88246622e-06, 2.54350908e-07, 2.30720707e-06,\n",
              "        3.82028484e-05, 8.83646521e-07],\n",
              "       [1.62612270e-08, 3.24694003e-04, 6.40376456e-05, 4.14847955e-06,\n",
              "        1.19592997e-07, 7.03175056e-06, 6.97710504e-07, 4.32384979e-07,\n",
              "        4.65797384e-05, 1.08779297e-07],\n",
              "       [5.83960214e-10, 3.38384905e-03, 9.08015718e-05, 5.15412921e-06,\n",
              "        2.44449495e-07, 1.19720744e-06, 8.02911359e-07, 5.78175013e-06,\n",
              "        1.06868474e-05, 1.47543062e-07],\n",
              "       [2.38819712e-06, 3.20657065e-08, 9.31230034e-07, 3.60266381e-06,\n",
              "        4.22716141e-07, 7.70047336e-06, 1.17993815e-09, 7.69330608e-03,\n",
              "        1.03753939e-06, 3.97849974e-04],\n",
              "       [2.33331292e-08, 4.67225254e-06, 7.88941725e-06, 1.13733411e-04,\n",
              "        9.83577308e-08, 1.16605531e-06, 2.74399697e-10, 7.01859314e-03,\n",
              "        1.18254320e-06, 1.12787653e-04],\n",
              "       [3.92219324e-09, 2.37563891e-05, 9.17949637e-06, 2.03603031e-05,\n",
              "        3.07257295e-07, 2.43277941e-06, 5.10473690e-08, 1.70965504e-05,\n",
              "        6.67829663e-05, 4.02176875e-06],\n",
              "       [4.76154263e-08, 2.19266170e-08, 1.33041260e-06, 1.93049008e-08,\n",
              "        4.40420117e-03, 6.50731067e-07, 1.56144847e-06, 4.28049134e-05,\n",
              "        2.10401981e-06, 1.59655843e-04],\n",
              "       [2.63657569e-07, 1.01218632e-06, 6.07868387e-05, 6.10703026e-08,\n",
              "        4.15276882e-05, 3.91879666e-06, 1.91290621e-02, 2.21191900e-08,\n",
              "        7.59865202e-07, 2.50254164e-08],\n",
              "       [5.58263017e-03, 3.68528363e-09, 1.31345269e-06, 5.09514357e-05,\n",
              "        1.35607694e-08, 4.82134783e-04, 5.08483069e-08, 1.35166974e-05,\n",
              "        2.55373436e-07, 1.12730766e-06],\n",
              "       [1.84930268e-05, 2.15664695e-08, 3.23425502e-06, 6.18633567e-06,\n",
              "        4.06169676e-08, 1.39851199e-05, 1.12182763e-09, 1.35629196e-02,\n",
              "        5.45963303e-07, 7.03838305e-05],\n",
              "       [9.88237653e-03, 3.34924177e-09, 1.50307533e-05, 1.40861657e-05,\n",
              "        2.58157957e-08, 2.05121352e-04, 6.75397723e-06, 2.96863959e-07,\n",
              "        4.61598091e-07, 3.21445803e-08],\n",
              "       [2.73345560e-08, 9.96157996e-06, 5.61576280e-06, 3.90631985e-03,\n",
              "        2.75449366e-07, 2.06120567e-05, 4.09131680e-08, 8.69792061e-08,\n",
              "        4.05181854e-05, 5.80092888e-07],\n",
              "       [1.57279119e-05, 3.93243127e-08, 3.47047317e-05, 5.06521936e-08,\n",
              "        3.07128103e-05, 1.77960719e-05, 8.29303637e-03, 2.42099958e-07,\n",
              "        5.34574021e-08, 1.57351945e-08],\n",
              "       [6.35908521e-07, 1.28958834e-06, 6.52784706e-07, 2.19624162e-05,\n",
              "        1.19001847e-07, 3.50737915e-04, 7.15647488e-08, 2.44094789e-08,\n",
              "        1.76977587e-03, 2.19279787e-06],\n",
              "       [5.16138698e-07, 2.05432698e-07, 4.17764477e-06, 4.09569338e-06,\n",
              "        1.80904962e-07, 3.67665007e-06, 8.88027984e-10, 2.69442890e-02,\n",
              "        1.05013510e-06, 7.38173549e-05],\n",
              "       [1.82856549e-10, 5.14016207e-03, 1.95518733e-05, 4.49128629e-06,\n",
              "        7.50404638e-07, 1.57799775e-06, 4.99381713e-07, 1.28177862e-05,\n",
              "        8.01691385e-06, 4.70435253e-07],\n",
              "       [1.58411342e-06, 5.64389666e-06, 4.15277282e-05, 2.38899351e-03,\n",
              "        6.61034028e-09, 5.01859104e-05, 2.91575429e-06, 2.28450531e-07,\n",
              "        8.73044428e-07, 1.19890418e-08],\n",
              "       [3.92551101e-06, 2.49687645e-07, 3.10262945e-03, 1.05545187e-05,\n",
              "        2.99783096e-08, 2.53985604e-07, 1.03405384e-07, 2.08466117e-05,\n",
              "        4.17235697e-06, 5.89690103e-07],\n",
              "       [5.25070014e-08, 3.00806029e-08, 5.59569628e-07, 2.30285213e-08,\n",
              "        1.09457020e-02, 1.78678465e-06, 9.72172984e-06, 6.39990549e-06,\n",
              "        1.20276695e-06, 5.72019489e-05],\n",
              "       [4.24881250e-07, 1.17240999e-08, 1.40530361e-07, 1.17971545e-07,\n",
              "        1.97082103e-04, 3.38917289e-06, 6.22343777e-08, 4.61444070e-05,\n",
              "        6.67819404e-06, 3.02132755e-03],\n",
              "       [1.36215917e-07, 1.95772571e-08, 1.74441197e-06, 1.45025352e-08,\n",
              "        8.66770279e-03, 7.97732014e-07, 1.66068548e-05, 8.94826553e-06,\n",
              "        6.88529894e-07, 2.98612231e-05],\n",
              "       [3.80434926e-07, 1.93187157e-06, 2.37617831e-04, 2.86917435e-04,\n",
              "        2.31765789e-08, 3.72987188e-06, 5.65158196e-08, 3.64548697e-07,\n",
              "        3.85685562e-05, 5.73585055e-07],\n",
              "       [8.34102252e-07, 9.38405265e-08, 3.38965001e-05, 3.17136895e-08,\n",
              "        6.51649607e-05, 1.15549904e-06, 1.27043040e-03, 1.64433956e-07,\n",
              "        2.09882342e-06, 6.03229353e-07],\n",
              "       [1.99156922e-08, 1.87593457e-07, 1.94493941e-06, 2.14208722e-08,\n",
              "        1.77991390e-03, 1.07922631e-06, 4.33688547e-06, 3.55831689e-05,\n",
              "        1.64562675e-06, 2.09713999e-05],\n",
              "       [1.64544919e-10, 6.67616026e-03, 2.93682842e-05, 1.64223638e-05,\n",
              "        3.05109040e-07, 1.45150170e-06, 1.15348136e-07, 1.76734375e-05,\n",
              "        1.03705124e-05, 4.48209335e-07],\n",
              "       [3.87250293e-06, 1.16173631e-08, 5.89338129e-07, 1.05662366e-06,\n",
              "        1.87942203e-06, 5.07675850e-06, 2.37973818e-09, 2.75120605e-02,\n",
              "        3.52501047e-07, 4.41060896e-04],\n",
              "       [4.54718065e-05, 7.81870213e-08, 1.01833220e-03, 8.05761490e-04,\n",
              "        9.21722532e-10, 3.50546793e-06, 2.40319391e-08, 4.08612686e-06,\n",
              "        8.35045830e-06, 1.93186139e-07],\n",
              "       [1.20465947e-05, 1.71972488e-07, 5.42668568e-05, 4.16900605e-07,\n",
              "        3.38394716e-06, 3.22106971e-05, 1.06480590e-03, 5.73109098e-08,\n",
              "        3.92393332e-07, 8.52067572e-09],\n",
              "       [7.76997354e-07, 1.48812546e-06, 2.72018951e-04, 7.31374666e-06,\n",
              "        2.38106637e-07, 5.53062023e-07, 4.39309260e-05, 1.86729130e-06,\n",
              "        3.66485068e-07, 2.11666588e-07],\n",
              "       [9.43652764e-02, 4.57744953e-10, 6.85471878e-06, 1.64220592e-06,\n",
              "        1.05406306e-08, 4.79736686e-04, 3.23248344e-07, 1.52686539e-06,\n",
              "        1.93786491e-06, 4.76396139e-07],\n",
              "       [1.27766506e-10, 2.54141563e-03, 6.31788680e-06, 3.81789177e-05,\n",
              "        3.09671265e-07, 9.91195634e-07, 7.54035625e-08, 3.38620230e-05,\n",
              "        1.08631884e-05, 5.93915411e-06],\n",
              "       [1.24967656e-07, 2.44403918e-06, 8.04547512e-04, 4.00893878e-05,\n",
              "        1.19765398e-08, 1.11047609e-06, 2.21795382e-08, 1.59078299e-05,\n",
              "        8.19651323e-05, 3.95398501e-07],\n",
              "       [3.07127657e-08, 1.01051055e-05, 8.00487305e-06, 3.05532012e-04,\n",
              "        1.31309950e-08, 1.60073741e-05, 4.40356196e-09, 2.61919945e-06,\n",
              "        4.18669282e-04, 4.42384862e-06],\n",
              "       [9.64646496e-09, 6.71287239e-08, 1.45587762e-07, 1.29544276e-07,\n",
              "        1.21329008e-02, 5.33426692e-06, 4.40849317e-06, 1.33202116e-06,\n",
              "        7.03923160e-06, 7.20842072e-05],\n",
              "       [7.95999676e-06, 5.63232277e-07, 2.04017795e-07, 8.84905239e-05,\n",
              "        3.48806672e-08, 8.65743309e-03, 4.34006289e-08, 1.67104659e-07,\n",
              "        7.07894069e-05, 1.98952577e-07],\n",
              "       [2.29106695e-06, 4.12660995e-07, 7.00389573e-05, 1.55168607e-07,\n",
              "        9.49734113e-06, 6.32682259e-06, 2.41248291e-02, 4.29341407e-09,\n",
              "        1.37314726e-06, 1.63321268e-08],\n",
              "       [5.58731585e-08, 1.56890735e-06, 3.94023446e-05, 5.39610592e-05,\n",
              "        3.40455024e-08, 5.12396639e-07, 2.75814344e-10, 2.04117373e-02,\n",
              "        2.05496872e-06, 6.44748434e-05],\n",
              "       [7.95057019e-07, 3.37924348e-07, 1.67245307e-05, 1.03694198e-04,\n",
              "        3.75699258e-08, 9.18954356e-06, 1.12560690e-08, 1.53515487e-07,\n",
              "        1.70636328e-03, 5.71548617e-06],\n",
              "       [6.39016264e-07, 4.88268270e-09, 3.66127722e-07, 2.47976914e-07,\n",
              "        5.23554045e-04, 6.16521788e-07, 2.33455154e-07, 2.47410007e-05,\n",
              "        1.88097124e-06, 2.84121721e-03],\n",
              "       [3.59444646e-03, 3.82480847e-09, 9.03980253e-06, 9.63949446e-07,\n",
              "        6.68368614e-08, 1.62495693e-04, 4.87023544e-06, 4.95108381e-08,\n",
              "        2.36933083e-05, 1.80037347e-07],\n",
              "       [3.05087899e-10, 9.00020357e-03, 3.33145072e-05, 4.62278967e-06,\n",
              "        1.90137030e-07, 2.03195964e-06, 5.82566918e-06, 7.80581672e-07,\n",
              "        2.34229683e-05, 1.79642541e-07],\n",
              "       [9.28451811e-07, 4.31030230e-06, 2.78095640e-02, 2.38705994e-04,\n",
              "        1.12811882e-09, 6.95215817e-07, 1.93211378e-07, 2.05002061e-06,\n",
              "        1.91200761e-05, 6.16601747e-09],\n",
              "       [2.90177331e-06, 1.16659817e-06, 7.86378005e-05, 1.27935885e-02,\n",
              "        1.02000286e-09, 9.89429100e-06, 1.61627245e-08, 4.59024568e-06,\n",
              "        3.76625576e-06, 2.51896381e-07],\n",
              "       [1.97591521e-09, 2.85567239e-07, 2.96263806e-07, 1.77121763e-07,\n",
              "        3.93060595e-03, 2.89802847e-06, 1.18241246e-06, 3.04886089e-06,\n",
              "        2.41271391e-05, 8.94323675e-05],\n",
              "       [9.57600605e-07, 1.17717832e-06, 1.91696273e-07, 9.84747203e-07,\n",
              "        1.94320387e-06, 1.39180222e-03, 4.20268407e-06, 5.84768891e-08,\n",
              "        1.32212183e-04, 1.37930471e-07],\n",
              "       [1.39896019e-05, 6.53859118e-08, 8.28804332e-05, 6.57966339e-08,\n",
              "        1.82419135e-05, 1.01985606e-05, 3.24971452e-02, 1.41907215e-08,\n",
              "        2.07992485e-07, 1.23155868e-08]], dtype=float32)"
            ]
          },
          "execution_count": 27,
          "metadata": {},
          "output_type": "execute_result"
        }
      ],
      "source": [
        "y_batch"
      ]
    },
    {
      "cell_type": "code",
      "execution_count": 28,
      "metadata": {},
      "outputs": [
        {
          "name": "stdout",
          "output_type": "stream",
          "text": [
            "[3.8940932e-08 8.8548932e-06 6.9953448e-06 3.6606643e-06 8.4337279e-07\n",
            " 2.5408084e-05 2.5475961e-06 1.0850613e-08 1.4120854e-03 3.6279445e-07]\n",
            "0.0014608079\n"
          ]
        }
      ],
      "source": [
        "print(y_batch[0, :])\n",
        "# 0~9までの合計が1になるのか？ -> ならない。0.0014608079\n",
        "print(np.sum(y_batch[0, :]))"
      ]
    },
    {
      "cell_type": "code",
      "execution_count": 29,
      "metadata": {},
      "outputs": [
        {
          "name": "stdout",
          "output_type": "stream",
          "text": [
            "[1.4120854e-03 5.0286355e-04 5.5063991e-03 2.3555956e-03 2.2019188e-04\n",
            " 3.0784347e-04 5.6460849e-04 1.7250817e-03 3.0063717e-02 3.3742413e-02\n",
            " 8.8577910e-04 4.7476817e-02 1.1948124e-03 1.2809685e-03 3.1624010e-03\n",
            " 2.4059208e-03 3.6306120e-03 9.7209010e-03 1.1470844e-03 2.6445830e-02\n",
            " 4.5646494e-03 1.6558747e-03 3.3709797e-04 7.6986346e-03 1.2852851e-03\n",
            " 1.0238589e-04 4.8105934e-04 2.9961634e-03 2.2887676e-03 1.6018638e-02\n",
            " 1.9731034e-02 5.3935084e-03 2.3803141e-03 7.1752388e-03 2.3038213e-03\n",
            " 2.6794387e-02 7.9732056e-04 8.6109311e-04 1.5575090e-02 6.2190544e-02\n",
            " 2.9676649e-04 5.3320266e-05 1.3764528e-02 1.5761463e-04 7.3532935e-04\n",
            " 3.0689887e-03 3.9556641e-03 1.5558217e-03 1.0148580e-02 6.3433712e-03\n",
            " 4.3702275e-03 5.8080480e-03 1.2571332e-01 6.5892912e-04 3.5845360e-04\n",
            " 3.2469400e-04 3.3838490e-03 7.6933061e-03 7.0185931e-03 6.6782966e-05\n",
            " 4.4042012e-03 1.9129062e-02 5.5826302e-03 1.3562920e-02 9.8823765e-03\n",
            " 3.9063198e-03 8.2930364e-03 1.7697759e-03 2.6944289e-02 5.1401621e-03\n",
            " 2.3889935e-03 3.1026294e-03 1.0945702e-02 3.0213275e-03 8.6677028e-03\n",
            " 2.8691744e-04 1.2704304e-03 1.7799139e-03 6.6761603e-03 2.7512060e-02\n",
            " 1.0183322e-03 1.0648059e-03 2.7201895e-04 9.4365276e-02 2.5414156e-03\n",
            " 8.0454751e-04 4.1866928e-04 1.2132901e-02 8.6574331e-03 2.4124829e-02\n",
            " 2.0411737e-02 1.7063633e-03 2.8412172e-03 3.5944465e-03 9.0002036e-03\n",
            " 2.7809564e-02 1.2793588e-02 3.9306059e-03 1.3918022e-03 3.2497145e-02]\n",
            "[8 9 0 1 2 9 4 5 6 7 8 0 1 2 3 4 7 8 9 7 8 6 4 1 9 2 8 4 4 7 0 1 9 2 8 7 8\n",
            " 2 6 0 0 6 3 5 9 9 1 4 0 6 1 0 0 6 2 1 1 7 7 8 4 6 0 7 0 3 6 8 7 1 3 2 4 9\n",
            " 4 3 6 4 1 7 2 6 2 0 1 2 8 4 5 6 7 8 9 0 1 2 3 4 5 6]\n"
          ]
        }
      ],
      "source": [
        "print(np.max(y_batch, axis=1))         # 各画像の最大確率を取得\n",
        "print(np.argmax(y_batch, axis=1))      # 各画像の最大確率のインデックスを取得"
      ]
    },
    {
      "cell_type": "code",
      "execution_count": 30,
      "metadata": {},
      "outputs": [
        {
          "name": "stdout",
          "output_type": "stream",
          "text": [
            "[0, 2, 4, 6, 8]\n"
          ]
        }
      ],
      "source": [
        "# range(start, end, step)に3つ引数を設定した場合の挙動 -> startからend-1までをstepずつ取得\n",
        "temp = []\n",
        "for i in range(0, 10, 2):\n",
        "    temp.append(i)\n",
        "print(temp)"
      ]
    },
    {
      "attachments": {},
      "cell_type": "markdown",
      "metadata": {},
      "source": [
        "### 4.2.1 2乗和誤差"
      ]
    },
    {
      "cell_type": "code",
      "execution_count": 33,
      "metadata": {},
      "outputs": [],
      "source": [
        "def mean_squared_error(y, t):\n",
        "    return .5 * np.sum((y-t)**2)"
      ]
    },
    {
      "cell_type": "code",
      "execution_count": 35,
      "metadata": {},
      "outputs": [
        {
          "name": "stdout",
          "output_type": "stream",
          "text": [
            "0.09750000000000003\n",
            "0.5975\n"
          ]
        }
      ],
      "source": [
        "# 正解は2\n",
        "t = [0, 0, 1, 0, 0, 0, 0, 0, 0, 0]\n",
        "# 2の確率が高いとき（正解）\n",
        "y = [0.1, 0.05, 0.6, 0.0, 0.05, 0.1, 0.0, 0.1, 0.0, 0.0]\n",
        "print(mean_squared_error(np.array(y), np.array(t)))\n",
        "# 7の確率が高いとき（誤答） -> 二乗和誤差は大きくなる\n",
        "y = [0.1, 0.05, 0.1, 0.0, 0.05, 0.1, 0.0, 0.6, 0.0, 0.0]\n",
        "print(mean_squared_error(np.array(y), np.array(t)))"
      ]
    },
    {
      "attachments": {},
      "cell_type": "markdown",
      "metadata": {},
      "source": [
        "### 4.2.2. 交差エントロピー誤差"
      ]
    },
    {
      "attachments": {},
      "cell_type": "markdown",
      "metadata": {},
      "source": [
        "正解ラベルtは、one-hot表現（正解だけ1, ほかは0）なので、交差エントロピー誤差は、正解ラベルが1の出力の自然対数を計算しているだけ。\n",
        "ほかは$t=0$となり、$E=0$となるから。"
      ]
    },
    {
      "cell_type": "code",
      "execution_count": 36,
      "metadata": {},
      "outputs": [],
      "source": [
        "def cross_entropy_error(y, t):\n",
        "    delta = 1e-7\n",
        "    return -np.sum(t * np.log(y+delta))"
      ]
    },
    {
      "cell_type": "code",
      "execution_count": 37,
      "metadata": {},
      "outputs": [
        {
          "name": "stdout",
          "output_type": "stream",
          "text": [
            "0.510825457099338\n",
            "2.302584092994546\n"
          ]
        }
      ],
      "source": [
        "# 正解は2\n",
        "t = [0, 0, 1, 0, 0, 0, 0, 0, 0, 0]\n",
        "# 2の確率が高いとき（正解）\n",
        "y = [0.1, 0.05, 0.6, 0.0, 0.05, 0.1, 0.0, 0.1, 0.0, 0.0]\n",
        "print(cross_entropy_error(np.array(y), np.array(t)))\n",
        "# 7の確率が高いとき（誤答） -> 交差エントロピー誤差は大きくなる\n",
        "y = [0.1, 0.05, 0.1, 0.0, 0.05, 0.1, 0.0, 0.6, 0.0, 0.0]\n",
        "print(cross_entropy_error(np.array(y), np.array(t)))\n"
      ]
    },
    {
      "cell_type": "code",
      "execution_count": 39,
      "metadata": {},
      "outputs": [
        {
          "data": {
            "text/plain": [
              "0.510825457099338"
            ]
          },
          "execution_count": 39,
          "metadata": {},
          "output_type": "execute_result"
        }
      ],
      "source": [
        "cross_entropy_error(0.6, 1)"
      ]
    },
    {
      "attachments": {},
      "cell_type": "markdown",
      "metadata": {},
      "source": [
        "### ミニバッチ学習\n",
        "データを無作為に選び出して学習を行う。"
      ]
    },
    {
      "cell_type": "code",
      "execution_count": 40,
      "metadata": {},
      "outputs": [
        {
          "name": "stdout",
          "output_type": "stream",
          "text": [
            "(60000, 784)\n",
            "(60000, 10)\n"
          ]
        }
      ],
      "source": [
        "(x_train, t_train), (x_test, t_test) = \\\n",
        "    load_mnist(normalize=True, one_hot_label=True)\n",
        "    \n",
        "print(x_train.shape)\n",
        "print(t_train.shape)"
      ]
    },
    {
      "cell_type": "code",
      "execution_count": 41,
      "metadata": {},
      "outputs": [],
      "source": [
        "# 訓練データから無作為に10枚だけ抜き出す\n",
        "train_size = x_train.shape[0]\n",
        "batch_size = 10\n",
        "batch_mask = np.random.choice(train_size, batch_size)\n",
        "x_batch = x_train[batch_mask]\n",
        "t_batch = t_train[batch_mask]"
      ]
    },
    {
      "cell_type": "code",
      "execution_count": 44,
      "metadata": {},
      "outputs": [
        {
          "data": {
            "text/plain": [
              "array([ 6087,  9901, 23994,  4018, 17057, 22553,  7255,  5792, 23223,\n",
              "       52765])"
            ]
          },
          "execution_count": 44,
          "metadata": {},
          "output_type": "execute_result"
        }
      ],
      "source": [
        "# ランダムにインデックスを取得\n",
        "np.random.choice(60000, 10)"
      ]
    },
    {
      "cell_type": "code",
      "execution_count": 45,
      "metadata": {},
      "outputs": [],
      "source": [
        "# ミニバッチに対応した交差エントロピー誤差\n",
        "def cross_entropy_error(y, t):\n",
        "    if y.ndim == 1:\n",
        "        t = t.reshape(1, t.size)\n",
        "        y = y.reshape(1, y.size)\n",
        "        \n",
        "    batch_size = y.shape[0]\n",
        "    delta = 1e-7\n",
        "    return -np.sum(np.log(y[np.arange(batch_size), t])+delta) / batch_size"
      ]
    },
    {
      "cell_type": "code",
      "execution_count": 63,
      "metadata": {},
      "outputs": [],
      "source": [
        "# cross_entropy_errorを解読\n",
        "t = np.array([2, 3, 4, 2, 3, 4, 5, 2, 1, 9])\n",
        "# 2の確率が高いとき（正解）\n",
        "y = np.array([0.1, 0.05, 0.6, 0.0, 0.05, 0.1, 0.0, 0.1, 0.0, 0.0])\n",
        "\n",
        "# yの次元を確認\n",
        "print(y.ndim)\n",
        "print(y.size)\n",
        "t = t.reshape(1, t.size)\n",
        "y = y.reshape(1, y.size)\n",
        "print(y.ndim)   # 2次元配列に変換\n",
        "print(t)\n",
        "print(y)\n"
      ]
    },
    {
      "cell_type": "code",
      "execution_count": 75,
      "metadata": {},
      "outputs": [
        {
          "name": "stdout",
          "output_type": "stream",
          "text": [
            "[0 1 2 3 4 5 6 7 8 9]\n"
          ]
        },
        {
          "data": {
            "text/plain": [
              "array([[0.6 , 0.  , 0.05, 0.6 , 0.  , 0.05, 0.1 , 0.6 , 0.05, 0.  ]])"
            ]
          },
          "execution_count": 75,
          "metadata": {},
          "output_type": "execute_result"
        }
      ],
      "source": [
        "print(np.arange(10))\n",
        "y[0, t]     # 0行スタート"
      ]
    },
    {
      "cell_type": "code",
      "execution_count": null,
      "metadata": {},
      "outputs": [],
      "source": []
    }
  ],
  "metadata": {
    "colab": {
      "provenance": []
    },
    "kernelspec": {
      "display_name": "Python 3",
      "name": "python3"
    },
    "language_info": {
      "codemirror_mode": {
        "name": "ipython",
        "version": 3
      },
      "file_extension": ".py",
      "mimetype": "text/x-python",
      "name": "python",
      "nbconvert_exporter": "python",
      "pygments_lexer": "ipython3",
      "version": "3.9.12"
    }
  },
  "nbformat": 4,
  "nbformat_minor": 0
}
